{
 "cells": [
  {
   "cell_type": "code",
   "execution_count": 8,
   "id": "1d53bf30",
   "metadata": {},
   "outputs": [
    {
     "name": "stdout",
     "output_type": "stream",
     "text": [
      "Renamed HueSatVal0000.png to 73-11-2.png\n",
      "Renamed HueSatVal0001.png to 73-13-2.png\n",
      "Renamed HueSatVal0002.png to 73-14-2.png\n",
      "Renamed HueSatVal0003.png to 74-11-2.png\n",
      "Renamed HueSatVal0004.png to 74-13-2.png\n",
      "Renamed HueSatVal0005.png to 74-14-2.png\n",
      "Renamed HueSatVal0006.png to 75-11-2.png\n",
      "Renamed HueSatVal0007.png to 75-13-2.png\n",
      "Renamed HueSatVal0008.png to 75-14-2.png\n",
      "Renamed HueSatVal0009.png to 76-11-2.png\n",
      "Renamed HueSatVal0010.png to 76-13-2.png\n",
      "Renamed HueSatVal0011.png to 76-14-2.png\n",
      "Renamed HueSatVal0012.png to 77-11-2.png\n",
      "Renamed HueSatVal0013.png to 77-13-2.png\n",
      "Renamed HueSatVal0014.png to 77-14-2.png\n",
      "Renamed HueSatVal0015.png to 78-11-2.png\n",
      "Renamed HueSatVal0016.png to 78-13-2.png\n",
      "Renamed HueSatVal0017.png to 78-14-2.png\n",
      "Renamed HueSatVal0018.png to 79-11-2.png\n",
      "Renamed HueSatVal0019.png to 79-13-2.png\n",
      "Renamed HueSatVal0020.png to 79-14-2.png\n",
      "Renamed HueSatVal0021.png to 80-11-2.png\n",
      "Renamed HueSatVal0022.png to 80-13-2.png\n",
      "Renamed HueSatVal0023.png to 80-14-2.png\n"
     ]
    }
   ],
   "source": [
    "import os\n",
    "\n",
    "def rename_images_in_sequence(folder_path, last_number):\n",
    "    if last_number not in [0, 1, 2]:\n",
    "        raise ValueError(\"The last number must be 0, 1, or 2.\")\n",
    "    \n",
    "    sequence_endings = []\n",
    "    for i in range(73, 81):\n",
    "        for j in [11, 13, 14]:\n",
    "            sequence_endings.append(f\"{i}-{j}-{last_number}\")\n",
    "    \n",
    "    files = sorted(os.listdir(folder_path))\n",
    "    \n",
    "    if len(files) > len(sequence_endings):\n",
    "        raise ValueError(\"There are more files than available sequence endings.\")\n",
    "    \n",
    "    for file, seq in zip(files, sequence_endings):\n",
    "        file_path = os.path.join(folder_path, file)\n",
    "        if os.path.isfile(file_path):\n",
    "            file_ext = os.path.splitext(file)[1]\n",
    "            new_file_name = f\"{seq}{file_ext}\"\n",
    "            new_file_path = os.path.join(folder_path, new_file_name)\n",
    "            os.rename(file_path, new_file_path)\n",
    "            print(f\"Renamed {file} to {new_file_name}\")\n",
    "\n",
    "#folder_path = 'C:/Users/Asus/OneDrive/Desktop/Spring202324/Image Processing/HW/HW1/HW1/hue/'\n",
    "#folder_path = 'C:/Users/Asus/OneDrive/Desktop/Spring202324/Image Processing/HW/HW1/HW1/sat/'\n",
    "folder_path = 'C:/Users/Asus/OneDrive/Desktop/Spring202324/Image Processing/HW/HW1/HW1/val/'\n",
    "last_number = 2\n",
    "rename_images_in_sequence(folder_path, last_number)"
   ]
  }
 ],
 "metadata": {
  "kernelspec": {
   "display_name": "Python 3 (ipykernel)",
   "language": "python",
   "name": "python3"
  },
  "language_info": {
   "codemirror_mode": {
    "name": "ipython",
    "version": 3
   },
   "file_extension": ".py",
   "mimetype": "text/x-python",
   "name": "python",
   "nbconvert_exporter": "python",
   "pygments_lexer": "ipython3",
   "version": "3.11.5"
  }
 },
 "nbformat": 4,
 "nbformat_minor": 5
}
